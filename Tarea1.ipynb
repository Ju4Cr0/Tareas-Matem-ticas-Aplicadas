{
  "nbformat": 4,
  "nbformat_minor": 0,
  "metadata": {
    "colab": {
      "provenance": [],
      "authorship_tag": "ABX9TyNRG/D6ca9pACirHaFXcCzL",
      "include_colab_link": true
    },
    "kernelspec": {
      "name": "python3",
      "display_name": "Python 3"
    },
    "language_info": {
      "name": "python"
    }
  },
  "cells": [
    {
      "cell_type": "markdown",
      "metadata": {
        "id": "view-in-github",
        "colab_type": "text"
      },
      "source": [
        "<a href=\"https://colab.research.google.com/github/Ju4Cr0/Tareas-Matem-ticas-Aplicadas/blob/main/Tarea1.ipynb\" target=\"_parent\"><img src=\"https://colab.research.google.com/assets/colab-badge.svg\" alt=\"Open In Colab\"/></a>"
      ]
    },
    {
      "cell_type": "markdown",
      "source": [
        "#Auto Biografia\n",
        "Mi nombre es Juan Andrés Ariza López, tengo 17 años y nací en Cali, Valle del Cauca. Desde pequeño, me llamó la atención la programación y la robótica gracias a mi gusto por los videojuegos. Este interés me llevó a indagar más sobre el software, despertando en mí una gran fascinación por la ciberseguridad y, últimamente, por la inteligencia artificial. Además, tengo un gran gusto por las motos, especialmente por mi favorita, la Kawasaki H2R.\n",
        "\n",
        "<img src=https://down-co.img.susercontent.com/file/sg-11134201-22100-ee6sq5b40tiv63_tn>\n",
        "\n",
        "\n",
        "#Canciones Favoritas\n",
        "\n",
        "\n",
        "1. **No me acuerdo**\n",
        "> Compositor/Artista:  *Juan Sebastián Álvarez Sierra* -*Oblivion's Mighty Trash*\n",
        "2. **Nuestro Juramento**\n",
        ">Compositor: *Benito de Jesús* - Artista: *Julio Jaramillo*\n",
        "3. **Puro parcerito**\n",
        "> Compositor: *Juan Sebastián Álvarez Sierra* - Artista: *Oblivion's Mighty\n",
        "4. **10 PM**\n",
        "> Compositor/Artista : *Steven Mesa - Bleesd*\n",
        "5. **Rondando tu esquina**\n",
        ">Compositor: *Enrique Cadicamo* - Artista : *Julio Jaramillo*\n",
        "\n",
        "|Materia Favorita |  Razon                 |\n",
        "|-----------------|------------------------|\n",
        "|1. Ing. Software | Planeacion             |\n",
        "|-----------------|------------------------|\n",
        "|2.APO            | Programacion OOP       |\n",
        "|-----------------|------------------------|\n",
        "|3. Aplicadas     | La mejor profe         |\n",
        "|-----------------|------------------------|\n",
        "\n",
        "\n",
        "\n",
        "\n",
        "\n",
        "\n",
        "\n"
      ],
      "metadata": {
        "id": "Uc0zF4RF-WdK"
      }
    }
  ]
}