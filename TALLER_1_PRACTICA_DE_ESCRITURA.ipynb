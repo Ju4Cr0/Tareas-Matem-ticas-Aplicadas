{
  "nbformat": 4,
  "nbformat_minor": 0,
  "metadata": {
    "colab": {
      "provenance": [],
      "include_colab_link": true
    },
    "kernelspec": {
      "name": "python3",
      "display_name": "Python 3"
    },
    "language_info": {
      "name": "python"
    }
  },
  "cells": [
    {
      "cell_type": "markdown",
      "metadata": {
        "id": "view-in-github",
        "colab_type": "text"
      },
      "source": [
        "<a href=\"https://colab.research.google.com/github/Ju4Cr0/Tareas-Matem-ticas-Aplicadas/blob/main/TALLER_1_PRACTICA_DE_ESCRITURA.ipynb\" target=\"_parent\"><img src=\"https://colab.research.google.com/assets/colab-badge.svg\" alt=\"Open In Colab\"/></a>"
      ]
    },
    {
      "cell_type": "code",
      "execution_count": null,
      "metadata": {
        "id": "RZcUeA1i-qYR"
      },
      "outputs": [],
      "source": []
    },
    {
      "cell_type": "markdown",
      "source": [
        ">SAMUEL VELA\n",
        ">>FELIPE CUADROS\n",
        ">>JUAN ANDRES ARIZA\n",
        ">VALENTINA TANGARIFE RINCON\n"
      ],
      "metadata": {
        "id": "DjqiR20I_IO_"
      }
    },
    {
      "cell_type": "markdown",
      "source": [
        "* Para cada una de las funciones dadas a continuación, despeje la variable\n",
        "indicada y luego escriba ambas funciones en LaTex\n",
        "\n",
        "1. **Área lateral de un cilindro**:\n",
        "   - $A = 2 \\pi r g$ y $r = \\frac{A}{2 \\pi g}$\n",
        "\n",
        "2. **Volumen del cono**:\n",
        "   - $V = \\frac{A_g \\cdot h}{3}$ y $h = \\frac{3V}{A_g}$\n",
        "\n",
        "3. **Volumen de la esfera**:\n",
        "   - $V = \\frac{4}{3} \\pi r^3$ y $r = \\sqrt[3]{\\frac{3V}{4\\pi}}$\n",
        "\n",
        "4. **Área del trapecio**:\n",
        "   - $A = \\frac{B + b}{2} \\cdot h$ y $h = \\frac{2A}{B + b}$\n",
        "\n",
        "5. **Intensidad eléctrica**:\n",
        "   - $I = \\frac{q}{t}$ y $t = \\frac{q}{I}$\n",
        "\n",
        "6. **Ley de Ohm**:\n",
        "   - $I = \\frac{V}{R}$ y $R = \\frac{V}{I}$\n",
        "\n",
        "7. **Energía eléctrica**:\n",
        "   - $E = \\frac{V^2}{R} \\cdot t$ y $t = \\frac{E \\cdot R}{V^2}$\n",
        "\n",
        "8. **Resistencias en paralelo**:\n",
        "   - $\\frac{1}{R} = \\frac{1}{R_1} + \\frac{1}{R_2}$ y $R = \\frac{R_1 R_2}{R_1 + R_2}$\n",
        "\n",
        "9. **Ecuación gases perfectos**:\n",
        "   - $\\frac{BV_0}{T_0} = \\frac{P/V}{T_f}$ y $Pr = \\frac{BV_0 T_f}{T_0 V}$\n",
        "\n",
        "10. **Intensidad eléctrica**:\n",
        "    - $I = \\frac{V_A - V_B}{R}$ y $V_B = V_A - I R$\n",
        "\n",
        "Estas son las ecuaciones despejadas y escritas en LaTeX con el símbolo `$` para que puedas usarlas en entornos que requieran este formato."
      ],
      "metadata": {
        "id": "YQipVxF3_-UF"
      }
    },
    {
      "cell_type": "code",
      "source": [],
      "metadata": {
        "id": "48Q8xFNvBpni"
      },
      "execution_count": null,
      "outputs": []
    },
    {
      "cell_type": "code",
      "source": [],
      "metadata": {
        "id": "y0WnXqVrAI-2"
      },
      "execution_count": null,
      "outputs": []
    },
    {
      "cell_type": "markdown",
      "source": [
        "4. Crea un programa que pida al usuario Nombre, Peso y Talla y este calcule el\n",
        "IMC\n"
      ],
      "metadata": {
        "id": "NVYQjJz-Bp_q"
      }
    },
    {
      "cell_type": "code",
      "source": [
        "print(\"-----------------------------\")\n",
        "print(\"Cual es su nombre\")\n",
        "Nombre = str(input())\n",
        "print(\"-----------------------------\")\n",
        "print(\"Cual es su peso en Kg\")\n",
        "Peso = int(input())\n",
        "print(\"-----------------------------\")\n",
        "print(\"Cual es su estatura en Metros\")\n",
        "Estatura = float(input())\n",
        "print(\"-----------------------------\")\n",
        "print(\"Ahora se va a calcular el IMC\")\n",
        "print(\"-----------------------------\")\n",
        "IMC = Peso / (Estatura ** 2)\n",
        "print(\"Su IMC es: \", IMC)\n",
        "print(\"-----------------------------\")\n"
      ],
      "metadata": {
        "colab": {
          "base_uri": "https://localhost:8080/"
        },
        "id": "GVp4oalCDGWY",
        "outputId": "dffaa540-8af8-48f9-998f-4c4622ba8803"
      },
      "execution_count": null,
      "outputs": [
        {
          "output_type": "stream",
          "name": "stdout",
          "text": [
            "-----------------------------\n",
            "Cual es su nombre\n",
            "Samuel\n",
            "-----------------------------\n",
            "Cual es su peso en Kg\n",
            "90\n",
            "-----------------------------\n",
            "Cual es su estatura en Metros\n",
            "1.78\n",
            "-----------------------------\n",
            "Ahora se va a calcular el IMC\n",
            "-----------------------------\n",
            "Su IMC es:  28.40550435551067\n"
          ]
        }
      ]
    },
    {
      "cell_type": "markdown",
      "source": [
        "5. Escriba un programa que pida dos números luego se imprima la suma,\n",
        "resta, producto y cociente\n"
      ],
      "metadata": {
        "id": "aGw2SzyCEC8q"
      }
    },
    {
      "cell_type": "code",
      "source": [
        "print(\"------------------------------\")\n",
        "print(\"Porfavor digite dos numeros\")\n",
        "Número1=int(input())\n",
        "Número2=int(input())\n",
        "print(\"----------------------------------------------------------------\")\n",
        "print(\"El resultado de la suma de los dos números es:\"Número1 + Número2)\n",
        "print(\"----------------------------------------------------------------\")\n",
        "print(\"El resultado de la resta de los dos números es\"Número1 - Número2)\n",
        "print(\"----------------------------------------------------------------\")\n",
        "print(\"El resultado del producto de los dos números es:\"Número1 * Número2)\n",
        "print(\"----------------------------------------------------------------\")\n",
        "print(\"El resultado del cociente de los dos números es:\"Número1 / Número2)\n",
        "print(\"----------------------------------------------------------------\")\n"
      ],
      "metadata": {
        "id": "1uTZCQ9kEJVB"
      },
      "execution_count": null,
      "outputs": []
    },
    {
      "cell_type": "markdown",
      "source": [
        "#####6.Aplicaciones#"
      ],
      "metadata": {
        "id": "kPLb7hdoF-WN"
      }
    },
    {
      "cell_type": "code",
      "source": [
        "\n",
        "precios_petroleo = [74.87, 75.37, 75.61, 75.38, 76.58, 75.61, 75.76]\n",
        "\n",
        "dia = 0\n",
        "\n",
        "\n",
        "precio_litro_cocacola = 8.52\n",
        "\n",
        "precio_capacidadbarril = 158.98\n",
        "\n",
        "\n",
        "preciobarrilcocacola = precio_capacidadbarril * precio_litro_cocacola\n",
        "\n",
        "\n",
        "comparacionprecios = [preciobarrilcocacola / precio for precio in precios_petroleo]\n",
        "\n",
        "\n",
        "print(\"Precio de un barril de Coca-Cola (USD):\", round(preciobarrilcocacola, 2))\n",
        "print(\"Comparación con el petróleo:\")\n",
        "for i in range(len(precios_petroleo)):\n",
        "    print(f\"Día {i+1}: Petróleo = ${precios_petroleo[i]} | Coca-Cola = ${preciobarrilcocacola} | Relación = {round(comparacionprecios[i], 2)}\")\n",
        "\n",
        "\n",
        "\n"
      ],
      "metadata": {
        "colab": {
          "base_uri": "https://localhost:8080/"
        },
        "id": "YSMZ0zrmGGid",
        "outputId": "25db5ba6-a587-44d5-9b09-a8edc04d9297"
      },
      "execution_count": 2,
      "outputs": [
        {
          "output_type": "stream",
          "name": "stdout",
          "text": [
            "Precio de un barril de Coca-Cola (USD): 1354.51\n",
            "Comparación con el petróleo:\n",
            "Día 1: Petróleo = $74.87 | Coca-Cola = $1354.5095999999999 | Relación = 18.09\n",
            "Día 2: Petróleo = $75.37 | Coca-Cola = $1354.5095999999999 | Relación = 17.97\n",
            "Día 3: Petróleo = $75.61 | Coca-Cola = $1354.5095999999999 | Relación = 17.91\n",
            "Día 4: Petróleo = $75.38 | Coca-Cola = $1354.5095999999999 | Relación = 17.97\n",
            "Día 5: Petróleo = $76.58 | Coca-Cola = $1354.5095999999999 | Relación = 17.69\n",
            "Día 6: Petróleo = $75.61 | Coca-Cola = $1354.5095999999999 | Relación = 17.91\n",
            "Día 7: Petróleo = $75.76 | Coca-Cola = $1354.5095999999999 | Relación = 17.88\n"
          ]
        }
      ]
    }
  ]
}