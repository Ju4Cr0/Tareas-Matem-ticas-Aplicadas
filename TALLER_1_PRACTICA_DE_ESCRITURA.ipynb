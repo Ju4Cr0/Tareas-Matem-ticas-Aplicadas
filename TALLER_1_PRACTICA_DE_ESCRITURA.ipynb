{
  "nbformat": 4,
  "nbformat_minor": 0,
  "metadata": {
    "colab": {
      "provenance": [],
      "include_colab_link": true
    },
    "kernelspec": {
      "name": "python3",
      "display_name": "Python 3"
    },
    "language_info": {
      "name": "python"
    }
  },
  "cells": [
    {
      "cell_type": "markdown",
      "metadata": {
        "id": "view-in-github",
        "colab_type": "text"
      },
      "source": [
        "<a href=\"https://colab.research.google.com/github/Ju4Cr0/Tareas-Matem-ticas-Aplicadas/blob/main/TALLER_1_PRACTICA_DE_ESCRITURA.ipynb\" target=\"_parent\"><img src=\"https://colab.research.google.com/assets/colab-badge.svg\" alt=\"Open In Colab\"/></a>"
      ]
    },
    {
      "cell_type": "markdown",
      "source": [
        "INTEGRANTES TALLER #1 DE PRACTICA MATEMATICAS APLICADAS:\n",
        ">SAMUEL VELA - A00410055\n",
        ">>FELIPE CUADROS - A00410604\n",
        ">>>JUAN ANDRES ARIZA -A00411424\n",
        "\n",
        "\n",
        "\n",
        "\n",
        ">>>>VALENTINA TANGARIFE RINCON - A00411935\n"
      ],
      "metadata": {
        "id": "DjqiR20I_IO_"
      }
    },
    {
      "cell_type": "markdown",
      "source": [
        "1. Para cada una de las funciones dadas a continuación, despeje la variable\n",
        "indicada y luego escriba ambas funciones en LaTex"
      ],
      "metadata": {
        "id": "aSHbyJLzB0B7"
      }
    },
    {
      "cell_type": "markdown",
      "source": [
        "1. *Área lateral de un cilindro*:\n",
        "   - $A = 2 \\pi r g$ y $r = \\frac{A}{2 \\pi g}$\n",
        "\n",
        "2. *Volumen del cono*:\n",
        "   - $V = \\frac{A_g \\cdot h}{3}$ y $h = \\frac{3V}{A_g}$\n",
        "\n",
        "3. *Volumen de la esfera*:\n",
        "   - $V = \\frac{4}{3} \\pi r^3$ y $r = \\sqrt[3]{\\frac{3V}{4\\pi}}$\n",
        "\n",
        "4. *Área del trapecio*:\n",
        "   - $A = \\frac{B + b}{2} \\cdot h$ y $h = \\frac{2A}{B + b}$\n",
        "\n",
        "5. *Intensidad eléctrica*:\n",
        "   - $I = \\frac{q}{t}$ y $t = \\frac{q}{I}$\n",
        "\n",
        "6. *Ley de Ohm*:\n",
        "   - $I = \\frac{V}{R}$ y $R = \\frac{V}{I}$\n",
        "\n",
        "7. *Energía eléctrica*:\n",
        "   - $E = \\frac{V^2}{R} \\cdot t$ y $t = \\frac{E \\cdot R}{V^2}$\n",
        "\n",
        "8. *Resistencias en paralelo*:\n",
        "   - $\\frac{1}{R} = \\frac{1}{R_1} + \\frac{1}{R_2}$ y $R = \\frac{R_1 R_2}{R_1 + R_2}$\n",
        "\n",
        "9. *Ecuación gases perfectos*:\n",
        "   - $\\frac{BV_0}{T_0} = \\frac{P/V}{T_f}$ y $Pr = \\frac{BV_0 T_f}{T_0 V}$\n",
        "\n",
        "10. *Intensidad eléctrica*:\n",
        "    - $I = \\frac{V_A - V_B}{R}$ y $V_B = V_A - I R$"
      ],
      "metadata": {
        "id": "e0R1giv9ODaV"
      }
    },
    {
      "cell_type": "markdown",
      "source": [
        "2. Operaciones artimeticas resueltas y comprobadas con phyton:"
      ],
      "metadata": {
        "id": "tcSrddMzBle_"
      }
    },
    {
      "cell_type": "code",
      "source": [
        "(3*(-5 + 10 + (-5)) - 2*(-2 + (-4) + 10))**2"
      ],
      "metadata": {
        "colab": {
          "base_uri": "https://localhost:8080/"
        },
        "id": "OMnVhWUhCU6y",
        "outputId": "c370093f-7de2-48c4-b8a5-d4c2f1046ff4"
      },
      "execution_count": null,
      "outputs": [
        {
          "output_type": "execute_result",
          "data": {
            "text/plain": [
              "64"
            ]
          },
          "metadata": {},
          "execution_count": 3
        }
      ]
    },
    {
      "cell_type": "code",
      "source": [
        "45 + (3 * (2 + 8) - 8 / 4) + 10 - 83"
      ],
      "metadata": {
        "colab": {
          "base_uri": "https://localhost:8080/"
        },
        "id": "kjwpAzDSGJwG",
        "outputId": "f263bd34-8004-4e61-a77f-7e559f0d16e8"
      },
      "execution_count": null,
      "outputs": [
        {
          "output_type": "execute_result",
          "data": {
            "text/plain": [
              "0.0"
            ]
          },
          "metadata": {},
          "execution_count": 5
        }
      ]
    },
    {
      "cell_type": "code",
      "source": [
        "((-4+7)**2 - 10)*(-4) - 7 - 3"
      ],
      "metadata": {
        "colab": {
          "base_uri": "https://localhost:8080/"
        },
        "id": "XYmylZf9GRTO",
        "outputId": "908b5261-691a-4b74-a78a-f4e1863b7e14"
      },
      "execution_count": null,
      "outputs": [
        {
          "output_type": "execute_result",
          "data": {
            "text/plain": [
              "-6"
            ]
          },
          "metadata": {},
          "execution_count": 26
        }
      ]
    },
    {
      "cell_type": "markdown",
      "source": [
        "3. Operaciones resueltas y escritas con phyton:"
      ],
      "metadata": {
        "id": "4fxlg2bBBZnr"
      }
    },
    {
      "cell_type": "code",
      "source": [
        "1/5*((1/2)**2 + (3/4)**2) + 10/25*((1/2)**2 + (3/4)**2) + 8/40*((1/2)**2 + (3/4)**2 )"
      ],
      "metadata": {
        "colab": {
          "base_uri": "https://localhost:8080/"
        },
        "id": "c-5hkd83I19_",
        "outputId": "da2fe1f3-2fb6-4814-c3c5-b76e922f9ea1"
      },
      "execution_count": null,
      "outputs": [
        {
          "output_type": "execute_result",
          "data": {
            "text/plain": [
              "0.65"
            ]
          },
          "metadata": {},
          "execution_count": 28
        }
      ]
    },
    {
      "cell_type": "code",
      "source": [
        "9/4*(6/8)**-1 - 5/2*(25/20)**-1 + 40/8*(20/16)**-1"
      ],
      "metadata": {
        "colab": {
          "base_uri": "https://localhost:8080/"
        },
        "id": "Fp0SldUeI12C",
        "outputId": "3a1721f8-3194-4413-f7e8-67812d23ef54"
      },
      "execution_count": null,
      "outputs": [
        {
          "output_type": "execute_result",
          "data": {
            "text/plain": [
              "5.0"
            ]
          },
          "metadata": {},
          "execution_count": 32
        }
      ]
    },
    {
      "cell_type": "markdown",
      "source": [],
      "metadata": {
        "id": "KklkB3-uKmw7"
      }
    },
    {
      "cell_type": "markdown",
      "source": [
        "4. Crea un programa que pida al usuario Nombre, Peso y Talla y este calcule el IMC\n"
      ],
      "metadata": {
        "id": "yiL60f4iAyxC"
      }
    },
    {
      "cell_type": "code",
      "source": [
        "print(\"-----------------------------\")\n",
        "print(\"Cual es su nombre\")\n",
        "Nombre = str(input())\n",
        "print(\"-----------------------------\")\n",
        "print(\"Cual es su peso en Kg\")\n",
        "Peso = int(input())\n",
        "print(\"-----------------------------\")\n",
        "print(\"Cual es su estatura en Metros\")\n",
        "Estatura = float(input())\n",
        "print(\"-----------------------------\")\n",
        "print(\"Ahora se va a calcular el IMC\")\n",
        "print(\"-----------------------------\")\n",
        "IMC = Peso / (Estatura ** 2)\n",
        "print(\"Su IMC es: \", IMC)"
      ],
      "metadata": {
        "id": "17BRsR26CVvs",
        "colab": {
          "base_uri": "https://localhost:8080/"
        },
        "outputId": "b3461657-0d51-4518-8f23-595255594a22"
      },
      "execution_count": null,
      "outputs": [
        {
          "output_type": "stream",
          "name": "stdout",
          "text": [
            "-----------------------------\n",
            "Cual es su nombre\n"
          ]
        }
      ]
    },
    {
      "cell_type": "markdown",
      "source": [
        "5. Escriba un programa que pida dos números luego se imprima la suma,\n",
        "resta, producto y cociente"
      ],
      "metadata": {
        "id": "v86FhqxJB3rl"
      }
    },
    {
      "cell_type": "code",
      "source": [
        "\n",
        "print(\"------------------------------\")\n",
        "print(\"Porfavor digite dos numeros\")\n",
        "Número1=int(input())\n",
        "Número2=int(input())\n",
        "print(\"----------------------------------------------------------------\")\n",
        "print(\"El resultado de la suma de los dos números es:\",(Número1 + Número2))\n",
        "print(\"----------------------------------------------------------------\")\n",
        "print(\"El resultado de la resta de los dos números es\",(Número1 - Número2))\n",
        "print(\"----------------------------------------------------------------\")\n",
        "print(\"El resultado del producto de los dos números es:\",(Número1 * Número2))\n",
        "print(\"----------------------------------------------------------------\")\n",
        "print(\"El resultado del cociente de los dos números es:\",(Número1 / Número2))\n",
        "print(\"----------------------------------------------------------------\")\n"
      ],
      "metadata": {
        "id": "yS7IqQKUCWR3"
      },
      "execution_count": null,
      "outputs": []
    },
    {
      "cell_type": "markdown",
      "source": [
        "6. APLICACIONES: Construir una lista que Almacene el precio del Barril de Petróleo los últimos 7 días. Indague sobre el precio de un litro de Cocacola (Hoy) y haga la conversión de Litros a Barriles bbl oil. Construya otra lista\n",
        "que relacione proporcionablemente el precio de un barril de Petróleo\n",
        "vs un barril de Cocacola. Construya un párrafo con sus conclusiones."
      ],
      "metadata": {
        "id": "Ek4y6VEPCDDq"
      }
    },
    {
      "cell_type": "code",
      "source": [
        "\n",
        "\n",
        "\n",
        "\n",
        "Barril = []\n",
        "\n",
        "dia = 0\n",
        "\n",
        "for i in range(7):\n",
        "\n",
        "    dia = dia+1\n",
        "\n",
        "    precio = float(input(f\"Ingrese el precio del barril del dia {dia}: \"))\n",
        "\n",
        "\n",
        "\n",
        "    Barril.append(precio)\n",
        "\n",
        "print(Barril)\n",
        "\n",
        "\n",
        "\n",
        "\n",
        "\n",
        "precio_litro_cocacola = 8.52\n",
        "\n",
        "precio_capacidadbarril = 158.98\n",
        "\n",
        "\n",
        "preciobarrilcocacola = precio_capacidadbarril * precio_litro_cocacola\n",
        "\n",
        "\n",
        "comparacionprecios = [preciobarrilcocacola / precio for precio in Barril]\n",
        "\n",
        "\n",
        "print(\"Precio de un barril de Coca-Cola (USD):\", round(preciobarrilcocacola, 2))\n",
        "print(\"Comparación con el petróleo:\")\n",
        "for i in range(len(Barril)):\n",
        "    print(f\"Día {i+1}: Petróleo = ${Barril[i]} | Coca-Cola = ${preciobarrilcocacola} | Relación = {round(comparacionprecios[i], 2)}\")\n",
        "\n",
        "\n",
        "\n"
      ],
      "metadata": {
        "id": "2UnOmbcpCGoz",
        "colab": {
          "base_uri": "https://localhost:8080/"
        },
        "outputId": "731836e3-5850-4ce7-dfca-f0316bbae080"
      },
      "execution_count": 4,
      "outputs": [
        {
          "output_type": "stream",
          "name": "stdout",
          "text": [
            "Ingrese el precio del barril del dia 1: 78\n",
            "Ingrese el precio del barril del dia 2: 77\n",
            "Ingrese el precio del barril del dia 3: 75.8\n",
            "Ingrese el precio del barril del dia 4: 77\n",
            "Ingrese el precio del barril del dia 5: 77.3\n",
            "Ingrese el precio del barril del dia 6: 78\n",
            "Ingrese el precio del barril del dia 7: 79\n",
            "[78.0, 77.0, 75.8, 77.0, 77.3, 78.0, 79.0]\n",
            "Precio de un barril de Coca-Cola (USD): 1354.51\n",
            "Comparación con el petróleo:\n",
            "Día 1: Petróleo = $78.0 | Coca-Cola = $1354.5095999999999 | Relación = 17.37\n",
            "Día 2: Petróleo = $77.0 | Coca-Cola = $1354.5095999999999 | Relación = 17.59\n",
            "Día 3: Petróleo = $75.8 | Coca-Cola = $1354.5095999999999 | Relación = 17.87\n",
            "Día 4: Petróleo = $77.0 | Coca-Cola = $1354.5095999999999 | Relación = 17.59\n",
            "Día 5: Petróleo = $77.3 | Coca-Cola = $1354.5095999999999 | Relación = 17.52\n",
            "Día 6: Petróleo = $78.0 | Coca-Cola = $1354.5095999999999 | Relación = 17.37\n",
            "Día 7: Petróleo = $79.0 | Coca-Cola = $1354.5095999999999 | Relación = 17.15\n"
          ]
        }
      ]
    }
  ]
}